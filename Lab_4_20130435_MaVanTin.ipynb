{
  "nbformat": 4,
  "nbformat_minor": 0,
  "metadata": {
    "colab": {
      "provenance": [],
      "include_colab_link": true
    },
    "kernelspec": {
      "name": "python3",
      "display_name": "Python 3"
    },
    "language_info": {
      "name": "python"
    }
  },
  "cells": [
    {
      "cell_type": "markdown",
      "metadata": {
        "id": "view-in-github",
        "colab_type": "text"
      },
      "source": [
        "<a href=\"https://colab.research.google.com/github/Motin2k4/ML/blob/main/Lab_4_20130435_MaVanTin.ipynb\" target=\"_parent\"><img src=\"https://colab.research.google.com/assets/colab-badge.svg\" alt=\"Open In Colab\"/></a>"
      ]
    },
    {
      "cell_type": "markdown",
      "source": [
        "# This lab is to continous dealing with **Logistic Regression**, **kNN**, and **Decision Tree** alogirthms applied to classification tasks. \n",
        "\n",
        "*   **Deadline: 23:59, 12/03/2023**\n",
        "\n"
      ],
      "metadata": {
        "id": "LMzehe0sy5wr"
      }
    },
    {
      "cell_type": "markdown",
      "source": [
        "# Import libraries"
      ],
      "metadata": {
        "id": "H4nJmxp9zGX4"
      }
    },
    {
      "cell_type": "code",
      "execution_count": 1,
      "metadata": {
        "id": "DoVWQ8AEyc-C",
        "colab": {
          "base_uri": "https://localhost:8080/"
        },
        "outputId": "0c35721f-d27a-40f6-f3fd-845ab1ab5fef"
      },
      "outputs": [
        {
          "output_type": "stream",
          "name": "stdout",
          "text": [
            "Mounted at /content/gdrive\n",
            "/content/gdrive/MyDrive/ML/Week4\n"
          ]
        }
      ],
      "source": [
        "# code\n",
        "from google.colab import drive\n",
        "drive.mount('/content/gdrive')\n",
        "%cd '/content/gdrive/MyDrive/ML/Week4'"
      ]
    },
    {
      "cell_type": "code",
      "source": [
        "from sklearn import datasets\n",
        "from sklearn.linear_model import LogisticRegression\n",
        "from sklearn.model_selection import train_test_split\n",
        "from sklearn.metrics import confusion_matrix\n",
        "from sklearn.metrics import ConfusionMatrixDisplay\n",
        "from sklearn.neighbors import KNeighborsClassifier"
      ],
      "metadata": {
        "id": "e-Klb17rYsgY"
      },
      "execution_count": 2,
      "outputs": []
    },
    {
      "cell_type": "markdown",
      "source": [
        "#Task 1. \n",
        "Apply **LogisticRegression** to iris dataset which aims at classifying species of iris based on sepal_length (chiều dài đài hoa), sepal_width, petal_length (chiều dài cánh hoa), petal_width. The species are '**setosa**' '**versicolor**' and '**virginica**'. \n",
        "\n",
        "\n",
        "\n",
        "```\n",
        "from sklearn import datasets\n",
        "data4 = datasets.load_iris()\n",
        "```\n",
        "\n",
        "\n"
      ],
      "metadata": {
        "id": "kNv07ARGzOUm"
      }
    },
    {
      "cell_type": "code",
      "source": [
        "# code\n",
        "classifier = LogisticRegression(random_state = 0) \n",
        "\n",
        "dataset = datasets.load_iris()\n",
        "X = dataset.data\n",
        "Y = dataset.target\n",
        "X_train, X_test, Y_train, Y_test = train_test_split(X, Y, test_size=.2)\n",
        "classifier.fit(X_train, Y_train)\n",
        "y_pred = classifier.predict(X_test)\n",
        "cm = confusion_matrix(Y_test, y_pred)\n",
        "ConfusionMatrixDisplay.from_predictions(Y_test, y_pred)"
      ],
      "metadata": {
        "id": "sOsg77IBzEyo",
        "colab": {
          "base_uri": "https://localhost:8080/",
          "height": 439
        },
        "outputId": "54cfa496-099d-4b9f-9892-27a6a9df0801"
      },
      "execution_count": 3,
      "outputs": [
        {
          "output_type": "stream",
          "name": "stderr",
          "text": [
            "/usr/local/lib/python3.9/dist-packages/sklearn/linear_model/_logistic.py:458: ConvergenceWarning: lbfgs failed to converge (status=1):\n",
            "STOP: TOTAL NO. of ITERATIONS REACHED LIMIT.\n",
            "\n",
            "Increase the number of iterations (max_iter) or scale the data as shown in:\n",
            "    https://scikit-learn.org/stable/modules/preprocessing.html\n",
            "Please also refer to the documentation for alternative solver options:\n",
            "    https://scikit-learn.org/stable/modules/linear_model.html#logistic-regression\n",
            "  n_iter_i = _check_optimize_result(\n"
          ]
        },
        {
          "output_type": "execute_result",
          "data": {
            "text/plain": [
              "<sklearn.metrics._plot.confusion_matrix.ConfusionMatrixDisplay at 0x7fcff89df100>"
            ]
          },
          "metadata": {},
          "execution_count": 3
        },
        {
          "output_type": "display_data",
          "data": {
            "text/plain": [
              "<Figure size 432x288 with 2 Axes>"
            ],
            "image/png": "[encoded data removed]"
          },
          "metadata": {
            "needs_background": "light"
          }
        }
      ]
    },
    {
      "cell_type": "markdown",
      "source": [],
      "metadata": {
        "id": "xb5N59_uUFLq"
      }
    },
    {
      "cell_type": "markdown",
      "source": [
        "#Task 2. \n",
        "Apply LogisticRegression to **MNIST** dataset (mnist.csv) which aims at classifying handwritten digits. Dataset includes 784 pixels values of images (28x28). \n",
        "\n",
        "\n",
        "```\n",
        "from sklearn import datasets\n",
        "# load the MNIST digits dataset\n",
        "mnist = datasets.load_digits()\n",
        "```\n",
        "\n"
      ],
      "metadata": {
        "id": "S43IoUT-0OQq"
      }
    },
    {
      "cell_type": "code",
      "source": [
        "# code\n",
        "mnist = datasets.load_digits()\n",
        "\n",
        "digits = datasets.load_digits()\n",
        "\n",
        "X = digits.data\n",
        "y = digits.target\n",
        "X_train, X_test, y_train, y_test = train_test_split(X, y, test_size=0.2)\n",
        "\n",
        "clf = LogisticRegression()\n",
        "clf.fit(X_train, y_train)\n",
        "\n",
        "y_pred = clf.predict(X_test)\n",
        "cm = confusion_matrix(y_test, y_pred)\n",
        "\n",
        "disp = ConfusionMatrixDisplay(confusion_matrix=cm)\n",
        "disp.plot()\n"
      ],
      "metadata": {
        "id": "_xhPpF5b033h",
        "colab": {
          "base_uri": "https://localhost:8080/",
          "height": 435
        },
        "outputId": "dcc363f2-f48c-4561-c493-76b0e687be35"
      },
      "execution_count": 4,
      "outputs": [
        {
          "output_type": "stream",
          "name": "stderr",
          "text": [
            "/usr/local/lib/python3.9/dist-packages/sklearn/linear_model/_logistic.py:458: ConvergenceWarning: lbfgs failed to converge (status=1):\n",
            "STOP: TOTAL NO. of ITERATIONS REACHED LIMIT.\n",
            "\n",
            "Increase the number of iterations (max_iter) or scale the data as shown in:\n",
            "    https://scikit-learn.org/stable/modules/preprocessing.html\n",
            "Please also refer to the documentation for alternative solver options:\n",
            "    https://scikit-learn.org/stable/modules/linear_model.html#logistic-regression\n",
            "  n_iter_i = _check_optimize_result(\n"
          ]
        },
        {
          "output_type": "execute_result",
          "data": {
            "text/plain": [
              "<sklearn.metrics._plot.confusion_matrix.ConfusionMatrixDisplay at 0x7fcfef8e7550>"
            ]
          },
          "metadata": {},
          "execution_count": 4
        },
        {
          "output_type": "display_data",
          "data": {
            "text/plain": [
              "<Figure size 432x288 with 2 Axes>"
            ],
            "image/png": "[encoded data removed]"
          },
          "metadata": {
            "needs_background": "light"
          }
        }
      ]
    },
    {
      "cell_type": "markdown",
      "source": [
        "#Task 3. \n",
        "Apply another classification algorithm named kNN, which is an instance classifcation model. \n",
        "*  3.1. Perform kNN algorithm to Iris dataset with k={1, 3, 5, …, 29}. Select the best value of k.\n",
        "\n",
        "*   3.2. Then compare the obtained results with those using Logistic regression (based on metrics: accuracy, precision, recall, f1 measure).\n"
      ],
      "metadata": {
        "id": "Rti2y0Wz2KY9"
      }
    },
    {
      "cell_type": "code",
      "source": [
        "# code\n",
        "from numpy import average\n",
        "from sklearn.neighbors import KNeighborsClassifier\n",
        "from sklearn.metrics import accuracy_score\n",
        "from sklearn.model_selection import train_test_split\n",
        "from sklearn.metrics import accuracy_score, precision_score, recall_score, f1_score\n",
        "import matplotlib.pyplot as plt\n",
        "\n",
        "iris = datasets.load_iris()\n",
        "X = iris.data\n",
        "y = iris.target\n",
        "X_train, X_test, y_train, y_test = train_test_split(X, y, test_size=0.2)\n",
        "\n",
        "\n",
        "k_values = range(1, 30, 2)\n",
        "\n",
        "best_k = None\n",
        "best_acc = 0.0\n",
        "\n",
        "accuracys_kNN = []\n",
        "precisions_kNN = []\n",
        "recalls_kNN = []\n",
        "F1Scores_kNN = []\n",
        "\n",
        "for k in k_values:\n",
        " \n",
        "    clf = KNeighborsClassifier(n_neighbors=k)\n",
        "    clf.fit(X_train, y_train)\n",
        "    y_pred = clf.predict(X_test)\n",
        "    \n",
        "    acc = accuracy_score(y_test, y_pred)\n",
        "    \n",
        "    accuracys_kNN.append(acc)\n",
        "    precisions_kNN.append(precision_score(y_test, y_pred, average='macro'))\n",
        "    recalls_kNN.append(recall_score(y_test, y_pred, average='macro'))\n",
        "    F1Scores_kNN.append(f1_score(y_test, y_pred, average='macro'))\n",
        "    if acc > best_acc:\n",
        "        best_acc = acc\n",
        "        best_k = k\n",
        "print(\"Best k =\", best_k)\n",
        "\n",
        "plt.plot(k_values, accuracys_kNN, label=\"Accuracy\")\n",
        "plt.plot(k_values, precisions_kNN, label=\"Precisions\")\n",
        "plt.plot(k_values, recalls_kNN, label=\"Recall\")\n",
        "plt.plot(k_values, F1Scores_kNN, label=\"F1 Scores\")\n",
        "plt.xlabel(\"k\")\n",
        "plt.legend()\n",
        "\n",
        "knn_clf = KNeighborsClassifier(n_neighbors=best_k)\n",
        "knn_clf.fit(X_train, y_train)\n",
        "y_pred_knn = knn_clf.predict(X_test)\n",
        "\n",
        "accuracy_knn = accuracy_score(y_test, y_pred_knn)\n",
        "precision_knn = precision_score(y_test, y_pred_knn, average='macro')\n",
        "recall_knn = recall_score(y_test, y_pred_knn, average='macro')\n",
        "f1_knn = f1_score(y_test, y_pred_knn, average='macro')\n",
        "\n",
        "logistic_clf = LogisticRegression()\n",
        "logistic_clf.fit(X_train, y_train)\n",
        "y_pred_logistic = logistic_clf.predict(X_test)\n",
        "\n",
        "accuracy_logistic = accuracy_score(y_test, y_pred_logistic)\n",
        "precision_logistic = precision_score(y_test, y_pred_logistic, average='macro')\n",
        "recall_logistic = recall_score(y_test, y_pred_logistic, average='macro')\n",
        "f1_logistic = f1_score(y_test, y_pred_logistic, average='macro')\n",
        "\n",
        "print(\"Kết quả mô hình kNN với k tốt nhất:\")\n",
        "print(\"Accuracy: \", accuracy_knn)\n",
        "print(\"Precision: \", precision_knn)\n",
        "print(\"Recall: \", recall_knn)\n",
        "print(\"F1-Score: \", f1_knn)\n",
        "\n",
        "print(\"\\nKết quả mô hình Logistic Regression:\")\n",
        "print(\"Accuracy: \", accuracy_logistic)\n",
        "print(\"Precision: \", precision_logistic)\n",
        "print(\"Recall: \", recall_logistic)\n",
        "print(\"F1-Score: \", f1_logistic)\n"
      ],
      "metadata": {
        "id": "13LkkfpS2ZUR",
        "colab": {
          "base_uri": "https://localhost:8080/",
          "height": 626
        },
        "outputId": "640b4a04-6634-4c21-d415-9214962b127b"
      },
      "execution_count": 5,
      "outputs": [
        {
          "output_type": "stream",
          "name": "stdout",
          "text": [
            "Best k = 1\n",
            "Kết quả mô hình kNN với k tốt nhất:\n",
            "Accuracy:  0.9666666666666667\n",
            "Precision:  0.9666666666666667\n",
            "Recall:  0.9629629629629629\n",
            "F1-Score:  0.9628482972136223\n",
            "\n",
            "Kết quả mô hình Logistic Regression:\n",
            "Accuracy:  0.9666666666666667\n",
            "Precision:  0.9666666666666667\n",
            "Recall:  0.9629629629629629\n",
            "F1-Score:  0.9628482972136223\n"
          ]
        },
        {
          "output_type": "stream",
          "name": "stderr",
          "text": [
            "/usr/local/lib/python3.9/dist-packages/sklearn/linear_model/_logistic.py:458: ConvergenceWarning: lbfgs failed to converge (status=1):\n",
            "STOP: TOTAL NO. of ITERATIONS REACHED LIMIT.\n",
            "\n",
            "Increase the number of iterations (max_iter) or scale the data as shown in:\n",
            "    https://scikit-learn.org/stable/modules/preprocessing.html\n",
            "Please also refer to the documentation for alternative solver options:\n",
            "    https://scikit-learn.org/stable/modules/linear_model.html#logistic-regression\n",
            "  n_iter_i = _check_optimize_result(\n"
          ]
        },
        {
          "output_type": "display_data",
          "data": {
            "text/plain": [
              "<Figure size 432x288 with 1 Axes>"
            ],
            "image/png": "[encoded data removed]"
          },
          "metadata": {
            "needs_background": "light"
          }
        }
      ]
    },
    {
      "cell_type": "markdown",
      "source": [
        "#Task 4. \n",
        "Similar to Task 3, apply kNN algorithm to **mnist** dataset which included in datasets of sklearn API.\n",
        "*  4.1.\tPerform kNN algorithm to Iris dataset with k={1, 3, 5, …, 29}. Select the best value of k.\n",
        "*  4.2.\tThen compare the obtained results with those using Logistic regression (based on metrics: accuracy, precision, recall, f1 measure).\n"
      ],
      "metadata": {
        "id": "b52OPWPD2afi"
      }
    },
    {
      "cell_type": "code",
      "source": [
        "# code\n",
        "digits = datasets.load_digits()\n",
        "\n",
        "X = digits.data\n",
        "y = digits.target\n",
        "\n",
        "X_train, X_test, y_train, y_test = train_test_split(X, y, test_size=0.2)\n",
        "\n",
        "k_values = range(1, 30, 2)\n",
        "\n",
        "best_k = None\n",
        "best_acc = 0.0\n",
        "\n",
        "accuracys_kNN = []\n",
        "precisions_kNN = []\n",
        "recalls_kNN = []\n",
        "F1Scores_kNN = []\n",
        "\n",
        "for k in k_values:\n",
        "\n",
        "    clf = KNeighborsClassifier(n_neighbors=k)\n",
        "    \n",
        "    clf.fit(X_train, y_train)\n",
        "    \n",
        "    y_pred = clf.predict(X_test)\n",
        "\n",
        "    acc = accuracy_score(y_test, y_pred)\n",
        "    \n",
        "    accuracys_kNN.append(acc)\n",
        "    precisions_kNN.append(precision_score(y_test, y_pred, average='weighted'))\n",
        "    recalls_kNN.append(recall_score(y_test, y_pred, average='weighted'))\n",
        "    F1Scores_kNN.append(f1_score(y_test, y_pred, average='weighted'))\n",
        "\n",
        "    if acc > best_acc:\n",
        "        best_acc = acc\n",
        "        best_k = k\n",
        "\n",
        "print(\"Best k =\", best_k)\n",
        "\n",
        "plt.plot(k_values, accuracys_kNN, label=\"Accuracy\")\n",
        "plt.plot(k_values, precisions_kNN, label=\"Precisions\")\n",
        "plt.plot(k_values, recalls_kNN, label=\"Recall\")\n",
        "plt.plot(k_values, F1Scores_kNN, label=\"F1 Scores\")\n",
        "plt.xlabel(\"k\")\n",
        "plt.legend()\n",
        "\n",
        "knn_clf = KNeighborsClassifier(n_neighbors=best_k)\n",
        "knn_clf.fit(X_train, y_train)\n",
        "y_pred_knn = knn_clf.predict(X_test)\n",
        "\n",
        "accuracy_knn = accuracy_score(y_test, y_pred_knn)\n",
        "precision_knn = precision_score(y_test, y_pred_knn, average='weighted')\n",
        "recall_knn = recall_score(y_test, y_pred_knn, average='weighted')\n",
        "f1_knn = f1_score(y_test, y_pred_knn, average='weighted')\n",
        "\n",
        "\n",
        "logistic_clf = LogisticRegression(max_iter=1000)\n",
        "logistic_clf.fit(X_train, y_train)\n",
        "y_pred_logistic = logistic_clf.predict(X_test)\n",
        "\n",
        "accuracy_logistic = accuracy_score(y_test, y_pred_logistic)\n",
        "precision_logistic = precision_score(y_test, y_pred_logistic, average='weighted')\n",
        "recall_logistic = recall_score(y_test, y_pred_logistic, average='weighted')\n",
        "f1_logistic = f1_score(y_test, y_pred_logistic, average='weighted')\n",
        "\n",
        "\n",
        "print(\"Kết quả mô hình kNN với k tốt nhất:\")\n",
        "print(\"Accuracy: \", accuracy_knn)\n",
        "print(\"Precision: \", precision_knn)\n",
        "print(\"Recall: \", recall_knn)\n",
        "print(\"F1-Score: \", f1_knn)\n",
        "\n",
        "print(\"\\nKết quả mô hình Logistic Regression:\")\n",
        "print(\"Accuracy: \", accuracy_logistic)\n",
        "print(\"Precision: \", precision_logistic)\n",
        "print(\"Recall: \", recall_logistic)\n",
        "print(\"F1-Score: \", f1_logistic)"
      ],
      "metadata": {
        "id": "Rw_-8FIf2KxW",
        "colab": {
          "base_uri": "https://localhost:8080/",
          "height": 626
        },
        "outputId": "7c9851ac-e5a1-40cc-acaa-ee5fc7dae065"
      },
      "execution_count": 6,
      "outputs": [
        {
          "output_type": "stream",
          "name": "stdout",
          "text": [
            "Best k = 1\n"
          ]
        },
        {
          "output_type": "stream",
          "name": "stderr",
          "text": [
            "/usr/local/lib/python3.9/dist-packages/sklearn/linear_model/_logistic.py:458: ConvergenceWarning: lbfgs failed to converge (status=1):\n",
            "STOP: TOTAL NO. of ITERATIONS REACHED LIMIT.\n",
            "\n",
            "Increase the number of iterations (max_iter) or scale the data as shown in:\n",
            "    https://scikit-learn.org/stable/modules/preprocessing.html\n",
            "Please also refer to the documentation for alternative solver options:\n",
            "    https://scikit-learn.org/stable/modules/linear_model.html#logistic-regression\n",
            "  n_iter_i = _check_optimize_result(\n"
          ]
        },
        {
          "output_type": "stream",
          "name": "stdout",
          "text": [
            "Kết quả mô hình kNN với k tốt nhất:\n",
            "Accuracy:  0.9972222222222222\n",
            "Precision:  0.9973039215686273\n",
            "Recall:  0.9972222222222222\n",
            "F1-Score:  0.9972244333886126\n",
            "\n",
            "Kết quả mô hình Logistic Regression:\n",
            "Accuracy:  0.9666666666666667\n",
            "Precision:  0.9671996039643098\n",
            "Recall:  0.9666666666666667\n",
            "F1-Score:  0.966692140942357\n"
          ]
        },
        {
          "output_type": "display_data",
          "data": {
            "text/plain": [
              "<Figure size 432x288 with 1 Axes>"
            ],
            "image/png": "[encoded data removed]"
          },
          "metadata": {
            "needs_background": "light"
          }
        }
      ]
    },
    {
      "cell_type": "markdown",
      "source": [
        "#Task 5. \n",
        "Compare the performance of selected classification algorithms (**Decision Treen, kNN, and Logistic Regression**) to ***spam detection***. The dataset can be accessed from the link: http://archive.ics.uci.edu/ml/datasets/Spambase \n",
        "Attribute Information:\n",
        "The last column of 'spambase.csv denotes whether the e-mail was considered spam (1) or not (0), i.e. unsolicited commercial e-mail. Most of the attributes indicate whether a particular word or character was frequently occuring in the e-mail. The run-length attributes (55-57) measure the length of sequences of consecutive capital letters. For the statistical measures of each attribute, see the end of this file. Here are the definitions of the attributes: \n",
        "*  48 continuous real [0,100] attributes of type word_freq_WORD \n",
        "= percentage of words in the e-mail that match WORD, i.e. 100 * (number of times the WORD appears in the e-mail) / total number of words in e-mail. A \"word\" in this case is any string of alphanumeric characters bounded by non-alphanumeric characters or end-of-string. **Example**: word_freq_address: percentage of words in the e-mail that match ADDRESS.\n",
        "*  6 continuous real [0,100] attributes of type char_freq_CHAR] \n",
        "= percentage of characters in the e-mail that match CHAR, i.e. 100 * (number of CHAR occurences) / total characters in e-mail\n",
        "*  1 continuous real [1,...] attribute of type capital_run_length_average \n",
        "= average length of uninterrupted sequences of capital letters\n",
        "*  1 continuous integer [1,...] attribute of type capital_run_length_longest \n",
        "= length of longest uninterrupted sequence of capital letters\n",
        "*  1 continuous integer [1,...] attribute of type capital_run_length_total = sum of length of uninterrupted sequences of capital letters = total number of capital letters in the e-mail\n",
        "*  1 nominal {0,1} class attribute of type spam = denotes whether the e-mail was considered spam (1) or not (0), i.e. unsolicited commercial e-mail. \n",
        "\n",
        "\n",
        "---\n",
        "\n",
        "\n",
        "In order to compare the performance of selected algorithms, some common metrics including **accuracy, precision, recall, f1 measures** could be used.\n"
      ],
      "metadata": {
        "id": "MVzSk4l505E0"
      }
    },
    {
      "cell_type": "code",
      "source": [
        "# code"
      ],
      "metadata": {
        "id": "W_1v_ivR2f6D"
      },
      "execution_count": null,
      "outputs": []
    },
    {
      "cell_type": "markdown",
      "source": [
        "#Finally,\n",
        "Save a copy in your Github. Remember renaming the notebook."
      ],
      "metadata": {
        "id": "Ok7RGkea_b7n"
      }
    }
  ]
}